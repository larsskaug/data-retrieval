{
 "cells": [
  {
   "cell_type": "code",
   "execution_count": 71,
   "metadata": {},
   "outputs": [],
   "source": [
    "from selenium import webdriver\n",
    "from selenium.webdriver.firefox.options import Options as FirefoxOptions\n",
    "from selenium.webdriver.firefox.service import Service as FirefoxService\n",
    "from selenium.webdriver.common.keys import Keys\n",
    "from selenium.webdriver.common.by import By\n",
    "from selenium.webdriver.support.ui import WebDriverWait\n",
    "from selenium.webdriver.support import expected_conditions as EC\n",
    "from datetime import datetime, timedelta\n",
    "from time import sleep\n",
    "import time\n",
    "import json\n",
    "import os\n",
    "\n",
    "country = 'ar'\n",
    "\n",
    "# Get the user's home directory\n",
    "home_directory = os.path.expanduser('~')\n",
    "\n",
    "# To address an issue caused by the Snap installation of Firefox\n",
    "#tmp_dir = os.path.join(home_directory, 'tmp')\n",
    "#os.environ['TMPDIR'] = tmp_dir\n",
    "#os.system(f\"rm -rf {tmp_dir}/*\")\n",
    "\n",
    "#print(f\"Does this command look right? rm -rf {tmp_dir}/*\")\n",
    "\n",
    "options = FirefoxOptions()\n",
    "# options.binary = \"/opt/homebrew/bin/firefox\"\n",
    "#options.add_argument(\"--headless\")  # Run Firefox in headless mode\n",
    "\n",
    "options.add_argument(\"--width=2048\")\n",
    "options.add_argument(\"--height=2048\")\n",
    "\n",
    "# Set preferences for geolocation\n",
    "options.set_preference(\"geo.enabled\", True)\n",
    "options.set_preference(\"geo.prompt.testing\", True)\n",
    "options.set_preference(\"geo.prompt.testing.allow\", False)  # Set to True to allow geolocation\n",
    "\n",
    "# service = FirefoxService(executable_path=os.path.join(home_directory, \"airflow/geckodriver\"))\n",
    "\n",
    "driver = webdriver.Firefox(options=options)\n",
    "\n",
    "size = driver.get_window_size()\n",
    "#print(\"Window size: width = {}px, height = {}px\".format(size[\"width\"], size[\"height\"]))\n",
    "\n",
    "wait = WebDriverWait(driver, 300)  # Adjust the timeout as needed\n",
    "\n",
    "url = 'https://www.mcdonalds.com.ar/pedidos/seleccionar-restaurante'\n",
    "\n",
    "driver.get(url)"
   ]
  },
  {
   "cell_type": "code",
   "execution_count": 72,
   "metadata": {},
   "outputs": [],
   "source": [
    "addr_input = wait.until(EC.element_to_be_clickable((By.XPATH, \"//input[@placeholder='Escribe tu ciudad o tu dirección']\")))\n",
    "addr_input.send_keys(\"Avenida Cabildo 2254, Buenos Aires\")\n",
    "addr_input.send_keys(Keys.RETURN)"
   ]
  },
  {
   "cell_type": "code",
   "execution_count": 73,
   "metadata": {},
   "outputs": [],
   "source": [
    "restaurant_selection_button = wait.until(EC.element_to_be_clickable((By.CSS_SELECTOR, \".mcd-restaurant-d-actions .button.is-primary\")))\n",
    "restaurant_selection_button.click()"
   ]
  },
  {
   "cell_type": "code",
   "execution_count": 74,
   "metadata": {},
   "outputs": [],
   "source": [
    "hamburguesas = wait.until(EC.element_to_be_clickable((By.XPATH, f\"//div[contains(text(), 'Hamburguesas')]\")))\n",
    "\n",
    "hamburguesas.click()"
   ]
  },
  {
   "cell_type": "code",
   "execution_count": 75,
   "metadata": {},
   "outputs": [],
   "source": [
    "hamburguesas = wait.until(EC.element_to_be_clickable((By.XPATH, f\"//div[contains(text(), 'Big Mac')]\")))\n",
    "\n",
    "hamburguesas.click()"
   ]
  },
  {
   "cell_type": "code",
   "execution_count": 76,
   "metadata": {},
   "outputs": [
    {
     "data": {
      "text/plain": [
       "' 370000'"
      ]
     },
     "execution_count": 76,
     "metadata": {},
     "output_type": "execute_result"
    }
   ],
   "source": [
    "big_mac_div = wait.until(EC.visibility_of_element_located((By.XPATH, '//h4[contains(text(), \"Big Mac\")]')))\n",
    "big_mac_price = big_mac_div.find_element(By.XPATH, \"following-sibling::h5\")\n",
    "big_mac_price = big_mac_price.text.replace(\"$\", \"\").replace(\",\", \".\").replace(\".\", \"\")\n",
    "big_mac_price"
   ]
  },
  {
   "cell_type": "code",
   "execution_count": 77,
   "metadata": {},
   "outputs": [],
   "source": [
    "driver.quit()"
   ]
  }
 ],
 "metadata": {
  "kernelspec": {
   "display_name": "Python 3",
   "language": "python",
   "name": "python3"
  },
  "language_info": {
   "codemirror_mode": {
    "name": "ipython",
    "version": 3
   },
   "file_extension": ".py",
   "mimetype": "text/x-python",
   "name": "python",
   "nbconvert_exporter": "python",
   "pygments_lexer": "ipython3",
   "version": "3.11.9"
  }
 },
 "nbformat": 4,
 "nbformat_minor": 2
}
